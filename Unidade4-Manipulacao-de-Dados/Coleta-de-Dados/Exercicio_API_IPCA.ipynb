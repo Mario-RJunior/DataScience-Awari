{
  "nbformat": 4,
  "nbformat_minor": 0,
  "metadata": {
    "colab": {
      "name": "Exercicio-API-IPCA.ipynb",
      "provenance": [],
      "collapsed_sections": [],
      "authorship_tag": "ABX9TyM/HC3JDw0UaM1/Uc/tZtd0",
      "include_colab_link": true
    },
    "kernelspec": {
      "name": "python3",
      "display_name": "Python 3"
    }
  },
  "cells": [
    {
      "cell_type": "markdown",
      "metadata": {
        "id": "view-in-github",
        "colab_type": "text"
      },
      "source": [
        "<a href=\"https://colab.research.google.com/github/Mario-RJunior/DataScience-Awari/blob/master/Unidade4-Manipulacao-de-Dados/Coleta-de-Dados/Exercicio_API_IPCA.ipynb\" target=\"_parent\"><img src=\"https://colab.research.google.com/assets/colab-badge.svg\" alt=\"Open In Colab\"/></a>"
      ]
    },
    {
      "cell_type": "markdown",
      "metadata": {
        "id": "YRHeOE7SY50U",
        "colab_type": "text"
      },
      "source": [
        "# Exercício:\n",
        "\n",
        "O exercício a ser desenvolvido para a presente unidade consiste em conectar-se a uma API. O Banco Central do Brasil disponibiliza dados a respeito de diversos indicadores econômicos do país. Sua tarefa será encontrar a série histórica relativa à inflação (IPCA) na plataforma de dados abertos do BC, importá-la e transformá-la em um DataFrame do Pandas.\n",
        "\n",
        "Você precisará criar um Jupyter Notebook (em sua máquina ou no Google Colab) com o código que mostre que a conexão com a API foi devidamente realizado."
      ]
    },
    {
      "cell_type": "code",
      "metadata": {
        "id": "8JTX2LUU_ZiV",
        "colab_type": "code",
        "colab": {}
      },
      "source": [
        "# Importando as bibliotecas\n",
        "import requests\n",
        "import json\n",
        "import pandas as pd"
      ],
      "execution_count": 1,
      "outputs": []
    },
    {
      "cell_type": "code",
      "metadata": {
        "id": "bKYzbWSUd1wK",
        "colab_type": "code",
        "colab": {}
      },
      "source": [
        "# Definindo o link para a API\n",
        "url = 'https://api.bcb.gov.br/dados/serie/bcdata.sgs.16121/dados?formato=json'"
      ],
      "execution_count": 2,
      "outputs": []
    },
    {
      "cell_type": "code",
      "metadata": {
        "id": "TXaRrFBW_r5c",
        "colab_type": "code",
        "colab": {}
      },
      "source": [
        "c = requests.get(url).content"
      ],
      "execution_count": 3,
      "outputs": []
    },
    {
      "cell_type": "code",
      "metadata": {
        "id": "9VFX3ZJa_vhV",
        "colab_type": "code",
        "colab": {}
      },
      "source": [
        "# Convertendo o arquivo .json para um dicionário\n",
        "local = json.loads(c)"
      ],
      "execution_count": 4,
      "outputs": []
    },
    {
      "cell_type": "code",
      "metadata": {
        "id": "Jidbm_Xa_5xG",
        "colab_type": "code",
        "colab": {
          "base_uri": "https://localhost:8080/",
          "height": 1000
        },
        "outputId": "6b82655f-b241-4537-f045-bcebacb2f3a6"
      },
      "source": [
        "local"
      ],
      "execution_count": 5,
      "outputs": [
        {
          "output_type": "execute_result",
          "data": {
            "text/plain": [
              "[{'data': '01/01/1991', 'valor': '20.27'},\n",
              " {'data': '01/02/1991', 'valor': '19.62'},\n",
              " {'data': '01/03/1991', 'valor': '13.45'},\n",
              " {'data': '01/04/1991', 'valor': '4.85'},\n",
              " {'data': '01/05/1991', 'valor': '8.15'},\n",
              " {'data': '01/06/1991', 'valor': '11.39'},\n",
              " {'data': '01/07/1991', 'valor': '12.52'},\n",
              " {'data': '01/08/1991', 'valor': '0.00'},\n",
              " {'data': '01/09/1991', 'valor': '33.39'},\n",
              " {'data': '01/10/1991', 'valor': '18.86'},\n",
              " {'data': '01/11/1991', 'valor': '24.68'},\n",
              " {'data': '01/12/1991', 'valor': '24.28'},\n",
              " {'data': '01/01/1992', 'valor': '25.76'},\n",
              " {'data': '01/02/1992', 'valor': '24.24'},\n",
              " {'data': '01/03/1992', 'valor': '21.77'},\n",
              " {'data': '01/04/1992', 'valor': '20.23'},\n",
              " {'data': '01/05/1992', 'valor': '24.96'},\n",
              " {'data': '01/06/1992', 'valor': '20.23'},\n",
              " {'data': '01/07/1992', 'valor': '21.95'},\n",
              " {'data': '01/08/1992', 'valor': '21.65'},\n",
              " {'data': '01/09/1992', 'valor': '24.19'},\n",
              " {'data': '01/10/1992', 'valor': '25.17'},\n",
              " {'data': '01/11/1992', 'valor': '23.66'},\n",
              " {'data': '01/12/1992', 'valor': '24.92'},\n",
              " {'data': '01/01/1993', 'valor': '30.22'},\n",
              " {'data': '01/02/1993', 'valor': '24.77'},\n",
              " {'data': '01/03/1993', 'valor': '27.42'},\n",
              " {'data': '01/04/1993', 'valor': '27.04'},\n",
              " {'data': '01/05/1993', 'valor': '27.71'},\n",
              " {'data': '01/06/1993', 'valor': '30.12'},\n",
              " {'data': '01/07/1993', 'valor': '30.45'},\n",
              " {'data': '01/08/1993', 'valor': '32.73'},\n",
              " {'data': '01/09/1993', 'valor': '35.71'},\n",
              " {'data': '01/10/1993', 'valor': '34.28'},\n",
              " {'data': '01/11/1993', 'valor': '35.91'},\n",
              " {'data': '01/12/1993', 'valor': '36.45'},\n",
              " {'data': '01/01/1994', 'valor': '40.32'},\n",
              " {'data': '01/02/1994', 'valor': '40.20'},\n",
              " {'data': '01/03/1994', 'valor': '42.11'},\n",
              " {'data': '01/04/1994', 'valor': '42.88'},\n",
              " {'data': '01/05/1994', 'valor': '45.89'},\n",
              " {'data': '01/06/1994', 'valor': '46.88'},\n",
              " {'data': '01/07/1994', 'valor': '7.04'},\n",
              " {'data': '01/08/1994', 'valor': '1.80'},\n",
              " {'data': '01/09/1994', 'valor': '1.73'},\n",
              " {'data': '01/10/1994', 'valor': '1.94'},\n",
              " {'data': '01/11/1994', 'valor': '2.50'},\n",
              " {'data': '01/12/1994', 'valor': '2.30'},\n",
              " {'data': '01/01/1995', 'valor': '2.31'},\n",
              " {'data': '01/02/1995', 'valor': '1.52'},\n",
              " {'data': '01/03/1995', 'valor': '1.75'},\n",
              " {'data': '01/04/1995', 'valor': '2.80'},\n",
              " {'data': '01/05/1995', 'valor': '3.52'},\n",
              " {'data': '01/06/1995', 'valor': '3.12'},\n",
              " {'data': '01/07/1995', 'valor': '2.79'},\n",
              " {'data': '01/08/1995', 'valor': '1.23'},\n",
              " {'data': '01/09/1995', 'valor': '1.33'},\n",
              " {'data': '01/10/1995', 'valor': '1.43'},\n",
              " {'data': '01/11/1995', 'valor': '1.54'},\n",
              " {'data': '01/12/1995', 'valor': '1.76'},\n",
              " {'data': '01/01/1996', 'valor': '1.35'},\n",
              " {'data': '01/02/1996', 'valor': '1.37'},\n",
              " {'data': '01/03/1996', 'valor': '0.49'},\n",
              " {'data': '01/04/1996', 'valor': '0.80'},\n",
              " {'data': '01/05/1996', 'valor': '1.33'},\n",
              " {'data': '01/06/1996', 'valor': '1.31'},\n",
              " {'data': '01/07/1996', 'valor': '1.25'},\n",
              " {'data': '01/08/1996', 'valor': '0.61'},\n",
              " {'data': '01/09/1996', 'valor': '0.28'},\n",
              " {'data': '01/10/1996', 'valor': '0.23'},\n",
              " {'data': '01/11/1996', 'valor': '0.45'},\n",
              " {'data': '01/12/1996', 'valor': '0.50'},\n",
              " {'data': '01/01/1997', 'valor': '0.76'},\n",
              " {'data': '01/02/1997', 'valor': '0.45'},\n",
              " {'data': '01/03/1997', 'valor': '0.31'},\n",
              " {'data': '01/04/1997', 'valor': '1.03'},\n",
              " {'data': '01/05/1997', 'valor': '0.78'},\n",
              " {'data': '01/06/1997', 'valor': '0.72'},\n",
              " {'data': '01/07/1997', 'valor': '0.44'},\n",
              " {'data': '01/08/1997', 'valor': '0.08'},\n",
              " {'data': '01/09/1997', 'valor': '0.10'},\n",
              " {'data': '01/10/1997', 'valor': '0.20'},\n",
              " {'data': '01/11/1997', 'valor': '-0.04'},\n",
              " {'data': '01/12/1997', 'valor': '0.18'},\n",
              " {'data': '01/01/1998', 'valor': '0.49'},\n",
              " {'data': '01/02/1998', 'valor': '0.44'},\n",
              " {'data': '01/03/1998', 'valor': '0.13'},\n",
              " {'data': '01/04/1998', 'valor': '0.04'},\n",
              " {'data': '01/05/1998', 'valor': '0.22'},\n",
              " {'data': '01/06/1998', 'valor': '0.00'},\n",
              " {'data': '01/07/1998', 'valor': '0.13'},\n",
              " {'data': '01/08/1998', 'valor': '-0.17'},\n",
              " {'data': '01/09/1998', 'valor': '-0.12'},\n",
              " {'data': '01/10/1998', 'valor': '0.04'},\n",
              " {'data': '01/11/1998', 'valor': '0.04'},\n",
              " {'data': '01/12/1998', 'valor': '0.16'},\n",
              " {'data': '01/01/1999', 'valor': '0.57'},\n",
              " {'data': '01/02/1999', 'valor': '0.66'},\n",
              " {'data': '01/03/1999', 'valor': '0.83'},\n",
              " {'data': '01/04/1999', 'valor': '0.61'},\n",
              " {'data': '01/05/1999', 'valor': '0.51'},\n",
              " {'data': '01/06/1999', 'valor': '0.40'},\n",
              " {'data': '01/07/1999', 'valor': '0.63'},\n",
              " {'data': '01/08/1999', 'valor': '0.43'},\n",
              " {'data': '01/09/1999', 'valor': '0.23'},\n",
              " {'data': '01/10/1999', 'valor': '0.90'},\n",
              " {'data': '01/11/1999', 'valor': '0.42'},\n",
              " {'data': '01/12/1999', 'valor': '0.46'},\n",
              " {'data': '01/01/2000', 'valor': '0.63'},\n",
              " {'data': '01/02/2000', 'valor': '0.32'},\n",
              " {'data': '01/03/2000', 'valor': '0.16'},\n",
              " {'data': '01/04/2000', 'valor': '0.62'},\n",
              " {'data': '01/05/2000', 'valor': '0.19'},\n",
              " {'data': '01/06/2000', 'valor': '0.31'},\n",
              " {'data': '01/07/2000', 'valor': '0.82'},\n",
              " {'data': '01/08/2000', 'valor': '0.43'},\n",
              " {'data': '01/09/2000', 'valor': '0.26'},\n",
              " {'data': '01/10/2000', 'valor': '0.22'},\n",
              " {'data': '01/11/2000', 'valor': '0.29'},\n",
              " {'data': '01/12/2000', 'valor': '0.30'},\n",
              " {'data': '01/01/2001', 'valor': '0.52'},\n",
              " {'data': '01/02/2001', 'valor': '0.63'},\n",
              " {'data': '01/03/2001', 'valor': '0.27'},\n",
              " {'data': '01/04/2001', 'valor': '0.44'},\n",
              " {'data': '01/05/2001', 'valor': '0.50'},\n",
              " {'data': '01/06/2001', 'valor': '0.74'},\n",
              " {'data': '01/07/2001', 'valor': '1.21'},\n",
              " {'data': '01/08/2001', 'valor': '0.72'},\n",
              " {'data': '01/09/2001', 'valor': '0.39'},\n",
              " {'data': '01/10/2001', 'valor': '0.48'},\n",
              " {'data': '01/11/2001', 'valor': '0.67'},\n",
              " {'data': '01/12/2001', 'valor': '0.77'},\n",
              " {'data': '01/01/2002', 'valor': '0.74'},\n",
              " {'data': '01/02/2002', 'valor': '0.73'},\n",
              " {'data': '01/03/2002', 'valor': '0.52'},\n",
              " {'data': '01/04/2002', 'valor': '0.50'},\n",
              " {'data': '01/05/2002', 'valor': '0.47'},\n",
              " {'data': '01/06/2002', 'valor': '0.37'},\n",
              " {'data': '01/07/2002', 'valor': '1.13'},\n",
              " {'data': '01/08/2002', 'valor': '0.73'},\n",
              " {'data': '01/09/2002', 'valor': '0.67'},\n",
              " {'data': '01/10/2002', 'valor': '0.95'},\n",
              " {'data': '01/11/2002', 'valor': '1.57'},\n",
              " {'data': '01/12/2002', 'valor': '1.65'},\n",
              " {'data': '01/01/2003', 'valor': '1.71'},\n",
              " {'data': '01/02/2003', 'valor': '1.47'},\n",
              " {'data': '01/03/2003', 'valor': '1.22'},\n",
              " {'data': '01/04/2003', 'valor': '1.06'},\n",
              " {'data': '01/05/2003', 'valor': '0.99'},\n",
              " {'data': '01/06/2003', 'valor': '0.47'},\n",
              " {'data': '01/07/2003', 'valor': '0.75'},\n",
              " {'data': '01/08/2003', 'valor': '0.49'},\n",
              " {'data': '01/09/2003', 'valor': '0.67'},\n",
              " {'data': '01/10/2003', 'valor': '0.34'},\n",
              " {'data': '01/11/2003', 'valor': '0.45'},\n",
              " {'data': '01/12/2003', 'valor': '0.60'},\n",
              " {'data': '01/01/2004', 'valor': '0.70'},\n",
              " {'data': '01/02/2004', 'valor': '0.77'},\n",
              " {'data': '01/03/2004', 'valor': '0.80'},\n",
              " {'data': '01/04/2004', 'valor': '0.59'},\n",
              " {'data': '01/05/2004', 'valor': '0.55'},\n",
              " {'data': '01/06/2004', 'valor': '0.49'},\n",
              " {'data': '01/07/2004', 'valor': '0.85'},\n",
              " {'data': '01/08/2004', 'valor': '0.52'},\n",
              " {'data': '01/09/2004', 'valor': '0.53'},\n",
              " {'data': '01/10/2004', 'valor': '0.51'},\n",
              " {'data': '01/11/2004', 'valor': '0.56'},\n",
              " {'data': '01/12/2004', 'valor': '0.62'},\n",
              " {'data': '01/01/2005', 'valor': '0.62'},\n",
              " {'data': '01/02/2005', 'valor': '0.80'},\n",
              " {'data': '01/03/2005', 'valor': '0.70'},\n",
              " {'data': '01/04/2005', 'valor': '0.92'},\n",
              " {'data': '01/05/2005', 'valor': '0.68'},\n",
              " {'data': '01/06/2005', 'valor': '0.34'},\n",
              " {'data': '01/07/2005', 'valor': '0.47'},\n",
              " {'data': '01/08/2005', 'valor': '0.37'},\n",
              " {'data': '01/09/2005', 'valor': '0.30'},\n",
              " {'data': '01/10/2005', 'valor': '0.47'},\n",
              " {'data': '01/11/2005', 'valor': '0.41'},\n",
              " {'data': '01/12/2005', 'valor': '0.31'},\n",
              " {'data': '01/01/2006', 'valor': '0.54'},\n",
              " {'data': '01/02/2006', 'valor': '0.52'},\n",
              " {'data': '01/03/2006', 'valor': '0.23'},\n",
              " {'data': '01/04/2006', 'valor': '0.30'},\n",
              " {'data': '01/05/2006', 'valor': '0.30'},\n",
              " {'data': '01/06/2006', 'valor': '0.11'},\n",
              " {'data': '01/07/2006', 'valor': '0.16'},\n",
              " {'data': '01/08/2006', 'valor': '0.08'},\n",
              " {'data': '01/09/2006', 'valor': '0.24'},\n",
              " {'data': '01/10/2006', 'valor': '0.26'},\n",
              " {'data': '01/11/2006', 'valor': '0.19'},\n",
              " {'data': '01/12/2006', 'valor': '0.57'},\n",
              " {'data': '01/01/2007', 'valor': '0.41'},\n",
              " {'data': '01/02/2007', 'valor': '0.48'},\n",
              " {'data': '01/03/2007', 'valor': '0.25'},\n",
              " {'data': '01/04/2007', 'valor': '0.28'},\n",
              " {'data': '01/05/2007', 'valor': '0.33'},\n",
              " {'data': '01/06/2007', 'valor': '0.25'},\n",
              " {'data': '01/07/2007', 'valor': '0.06'},\n",
              " {'data': '01/08/2007', 'valor': '0.37'},\n",
              " {'data': '01/09/2007', 'valor': '0.21'},\n",
              " {'data': '01/10/2007', 'valor': '0.28'},\n",
              " {'data': '01/11/2007', 'valor': '0.30'},\n",
              " {'data': '01/12/2007', 'valor': '0.39'},\n",
              " {'data': '01/01/2008', 'valor': '0.41'},\n",
              " {'data': '01/02/2008', 'valor': '0.60'},\n",
              " {'data': '01/03/2008', 'valor': '0.46'},\n",
              " {'data': '01/04/2008', 'valor': '0.57'},\n",
              " {'data': '01/05/2008', 'valor': '0.64'},\n",
              " {'data': '01/06/2008', 'valor': '0.51'},\n",
              " {'data': '01/07/2008', 'valor': '0.44'},\n",
              " {'data': '01/08/2008', 'valor': '0.46'},\n",
              " {'data': '01/09/2008', 'valor': '0.42'},\n",
              " {'data': '01/10/2008', 'valor': '0.42'},\n",
              " {'data': '01/11/2008', 'valor': '0.31'},\n",
              " {'data': '01/12/2008', 'valor': '0.34'},\n",
              " {'data': '01/01/2009', 'valor': '0.45'},\n",
              " {'data': '01/02/2009', 'valor': '0.70'},\n",
              " {'data': '01/03/2009', 'valor': '0.23'},\n",
              " {'data': '01/04/2009', 'valor': '0.56'},\n",
              " {'data': '01/05/2009', 'valor': '0.54'},\n",
              " {'data': '01/06/2009', 'valor': '0.27'},\n",
              " {'data': '01/07/2009', 'valor': '0.29'},\n",
              " {'data': '01/08/2009', 'valor': '0.21'},\n",
              " {'data': '01/09/2009', 'valor': '0.31'},\n",
              " {'data': '01/10/2009', 'valor': '0.24'},\n",
              " {'data': '01/11/2009', 'valor': '0.37'},\n",
              " {'data': '01/12/2009', 'valor': '0.46'},\n",
              " {'data': '01/01/2010', 'valor': '0.59'},\n",
              " {'data': '01/02/2010', 'valor': '0.68'},\n",
              " {'data': '01/03/2010', 'valor': '0.42'},\n",
              " {'data': '01/04/2010', 'valor': '0.42'},\n",
              " {'data': '01/05/2010', 'valor': '0.56'},\n",
              " {'data': '01/06/2010', 'valor': '0.36'},\n",
              " {'data': '01/07/2010', 'valor': '0.24'},\n",
              " {'data': '01/08/2010', 'valor': '0.12'},\n",
              " {'data': '01/09/2010', 'valor': '0.37'},\n",
              " {'data': '01/10/2010', 'valor': '0.44'},\n",
              " {'data': '01/11/2010', 'valor': '0.52'},\n",
              " {'data': '01/12/2010', 'valor': '0.60'},\n",
              " {'data': '01/01/2011', 'valor': '0.76'},\n",
              " {'data': '01/02/2011', 'valor': '0.96'},\n",
              " {'data': '01/03/2011', 'valor': '0.70'},\n",
              " {'data': '01/04/2011', 'valor': '0.52'},\n",
              " {'data': '01/05/2011', 'valor': '0.54'},\n",
              " {'data': '01/06/2011', 'valor': '0.56'},\n",
              " {'data': '01/07/2011', 'valor': '0.33'},\n",
              " {'data': '01/08/2011', 'valor': '0.32'},\n",
              " {'data': '01/09/2011', 'valor': '0.45'},\n",
              " {'data': '01/10/2011', 'valor': '0.47'},\n",
              " {'data': '01/11/2011', 'valor': '0.47'},\n",
              " {'data': '01/12/2011', 'valor': '0.41'},\n",
              " {'data': '01/01/2012', 'valor': '0.59'},\n",
              " {'data': '01/02/2012', 'valor': '0.60'},\n",
              " {'data': '01/03/2012', 'valor': '0.21'},\n",
              " {'data': '01/04/2012', 'valor': '0.69'},\n",
              " {'data': '01/05/2012', 'valor': '0.36'},\n",
              " {'data': '01/06/2012', 'valor': '0.05'},\n",
              " {'data': '01/07/2012', 'valor': '0.46'},\n",
              " {'data': '01/08/2012', 'valor': '0.40'},\n",
              " {'data': '01/09/2012', 'valor': '0.47'},\n",
              " {'data': '01/10/2012', 'valor': '0.51'},\n",
              " {'data': '01/11/2012', 'valor': '0.63'},\n",
              " {'data': '01/12/2012', 'valor': '0.76'},\n",
              " {'data': '01/01/2013', 'valor': '0.63'},\n",
              " {'data': '01/02/2013', 'valor': '0.28'},\n",
              " {'data': '01/03/2013', 'valor': '0.35'},\n",
              " {'data': '01/04/2013', 'valor': '0.52'},\n",
              " {'data': '01/05/2013', 'valor': '0.49'},\n",
              " {'data': '01/06/2013', 'valor': '0.46'},\n",
              " {'data': '01/07/2013', 'valor': '0.20'},\n",
              " {'data': '01/08/2013', 'valor': '0.41'},\n",
              " {'data': '01/09/2013', 'valor': '0.48'},\n",
              " {'data': '01/10/2013', 'valor': '0.51'},\n",
              " {'data': '01/11/2013', 'valor': '0.57'},\n",
              " {'data': '01/12/2013', 'valor': '0.74'},\n",
              " {'data': '01/01/2014', 'valor': '0.50'},\n",
              " {'data': '01/02/2014', 'valor': '0.79'},\n",
              " {'data': '01/03/2014', 'valor': '0.58'},\n",
              " {'data': '01/04/2014', 'valor': '0.52'},\n",
              " {'data': '01/05/2014', 'valor': '0.54'},\n",
              " {'data': '01/06/2014', 'valor': '0.71'},\n",
              " {'data': '01/07/2014', 'valor': '0.19'},\n",
              " {'data': '01/08/2014', 'valor': '0.42'},\n",
              " {'data': '01/09/2014', 'valor': '0.55'},\n",
              " {'data': '01/10/2014', 'valor': '0.41'},\n",
              " {'data': '01/11/2014', 'valor': '0.33'},\n",
              " {'data': '01/12/2014', 'valor': '0.73'},\n",
              " {'data': '01/01/2015', 'valor': '1.16'},\n",
              " {'data': '01/02/2015', 'valor': '0.90'},\n",
              " {'data': '01/03/2015', 'valor': '1.34'},\n",
              " {'data': '01/04/2015', 'valor': '0.75'},\n",
              " {'data': '01/05/2015', 'valor': '0.62'},\n",
              " {'data': '01/06/2015', 'valor': '0.89'},\n",
              " {'data': '01/07/2015', 'valor': '0.71'},\n",
              " {'data': '01/08/2015', 'valor': '0.32'},\n",
              " {'data': '01/09/2015', 'valor': '0.55'},\n",
              " {'data': '01/10/2015', 'valor': '0.53'},\n",
              " {'data': '01/11/2015', 'valor': '0.53'},\n",
              " {'data': '01/12/2015', 'valor': '0.76'},\n",
              " {'data': '01/01/2016', 'valor': '0.93'},\n",
              " {'data': '01/02/2016', 'valor': '0.86'},\n",
              " {'data': '01/03/2016', 'valor': '0.23'},\n",
              " {'data': '01/04/2016', 'valor': '0.65'},\n",
              " {'data': '01/05/2016', 'valor': '0.98'},\n",
              " {'data': '01/06/2016', 'valor': '0.39'},\n",
              " {'data': '01/07/2016', 'valor': '0.36'},\n",
              " {'data': '01/08/2016', 'valor': '0.47'},\n",
              " {'data': '01/09/2016', 'valor': '0.19'},\n",
              " {'data': '01/10/2016', 'valor': '0.30'},\n",
              " {'data': '01/11/2016', 'valor': '0.33'},\n",
              " {'data': '01/12/2016', 'valor': '0.31'},\n",
              " {'data': '01/01/2017', 'valor': '0.39'},\n",
              " {'data': '01/02/2017', 'valor': '0.59'},\n",
              " {'data': '01/03/2017', 'valor': '0.42'},\n",
              " {'data': '01/04/2017', 'valor': '0.15'},\n",
              " {'data': '01/05/2017', 'valor': '0.51'},\n",
              " {'data': '01/06/2017', 'valor': '0.08'},\n",
              " {'data': '01/07/2017', 'valor': '0.40'},\n",
              " {'data': '01/08/2017', 'valor': '0.17'},\n",
              " {'data': '01/09/2017', 'valor': '0.13'},\n",
              " {'data': '01/10/2017', 'valor': '0.43'},\n",
              " {'data': '01/11/2017', 'valor': '0.21'},\n",
              " {'data': '01/12/2017', 'valor': '0.29'},\n",
              " {'data': '01/01/2018', 'valor': '-0.03'},\n",
              " {'data': '01/02/2018', 'valor': '0.40'},\n",
              " {'data': '01/03/2018', 'valor': '0.13'},\n",
              " {'data': '01/04/2018', 'valor': '0.20'},\n",
              " {'data': '01/05/2018', 'valor': '0.25'},\n",
              " {'data': '01/06/2018', 'valor': '0.63'},\n",
              " {'data': '01/07/2018', 'valor': '0.71'},\n",
              " {'data': '01/08/2018', 'valor': '0.19'},\n",
              " {'data': '01/09/2018', 'valor': '0.32'},\n",
              " {'data': '01/10/2018', 'valor': '0.20'},\n",
              " {'data': '01/11/2018', 'valor': '-0.13'},\n",
              " {'data': '01/12/2018', 'valor': '0.35'},\n",
              " {'data': '01/01/2019', 'valor': '0.36'},\n",
              " {'data': '01/02/2019', 'valor': '0.36'},\n",
              " {'data': '01/03/2019', 'valor': '0.30'},\n",
              " {'data': '01/04/2019', 'valor': '0.42'},\n",
              " {'data': '01/05/2019', 'valor': '0.16'},\n",
              " {'data': '01/06/2019', 'valor': '0.26'},\n",
              " {'data': '01/07/2019', 'valor': '0.43'},\n",
              " {'data': '01/08/2019', 'valor': '0.30'},\n",
              " {'data': '01/09/2019', 'valor': '0.06'},\n",
              " {'data': '01/10/2019', 'valor': '0.04'},\n",
              " {'data': '01/11/2019', 'valor': '0.39'},\n",
              " {'data': '01/12/2019', 'valor': '0.28'},\n",
              " {'data': '01/01/2020', 'valor': '0.17'},\n",
              " {'data': '01/02/2020', 'valor': '0.35'},\n",
              " {'data': '01/03/2020', 'valor': '0.04'},\n",
              " {'data': '01/04/2020', 'valor': '0.01'},\n",
              " {'data': '01/05/2020', 'valor': '-0.19'}]"
            ]
          },
          "metadata": {
            "tags": []
          },
          "execution_count": 5
        }
      ]
    },
    {
      "cell_type": "markdown",
      "metadata": {
        "id": "Cy0819Cy8MJ6",
        "colab_type": "text"
      },
      "source": [
        "## Resolução 1:"
      ]
    },
    {
      "cell_type": "code",
      "metadata": {
        "id": "p_jKRs9KeUdu",
        "colab_type": "code",
        "colab": {}
      },
      "source": [
        "features = ['data', 'valor']\n",
        "lista_auxiliar = []\n",
        "dicionario = {}\n",
        "for feature in features:\n",
        "  for c in range(len(local)):\n",
        "    x = local[c][f'{feature}'] \n",
        "    lista_auxiliar.append(x)\n",
        "  dicionario[f'{feature}'] = lista_auxiliar.copy()\n",
        "  lista_auxiliar.clear()"
      ],
      "execution_count": 6,
      "outputs": []
    },
    {
      "cell_type": "code",
      "metadata": {
        "id": "x4bH78SLXuFY",
        "colab_type": "code",
        "colab": {}
      },
      "source": [
        "df1 = pd.DataFrame(dicionario)"
      ],
      "execution_count": 7,
      "outputs": []
    },
    {
      "cell_type": "code",
      "metadata": {
        "id": "lQS99hBkrUwl",
        "colab_type": "code",
        "colab": {
          "base_uri": "https://localhost:8080/",
          "height": 198
        },
        "outputId": "6323f3df-bd11-4bad-b32c-3c5c78b6eb3e"
      },
      "source": [
        "df1.head()"
      ],
      "execution_count": 8,
      "outputs": [
        {
          "output_type": "execute_result",
          "data": {
            "text/html": [
              "<div>\n",
              "<style scoped>\n",
              "    .dataframe tbody tr th:only-of-type {\n",
              "        vertical-align: middle;\n",
              "    }\n",
              "\n",
              "    .dataframe tbody tr th {\n",
              "        vertical-align: top;\n",
              "    }\n",
              "\n",
              "    .dataframe thead th {\n",
              "        text-align: right;\n",
              "    }\n",
              "</style>\n",
              "<table border=\"1\" class=\"dataframe\">\n",
              "  <thead>\n",
              "    <tr style=\"text-align: right;\">\n",
              "      <th></th>\n",
              "      <th>data</th>\n",
              "      <th>valor</th>\n",
              "    </tr>\n",
              "  </thead>\n",
              "  <tbody>\n",
              "    <tr>\n",
              "      <th>0</th>\n",
              "      <td>01/01/1991</td>\n",
              "      <td>20.27</td>\n",
              "    </tr>\n",
              "    <tr>\n",
              "      <th>1</th>\n",
              "      <td>01/02/1991</td>\n",
              "      <td>19.62</td>\n",
              "    </tr>\n",
              "    <tr>\n",
              "      <th>2</th>\n",
              "      <td>01/03/1991</td>\n",
              "      <td>13.45</td>\n",
              "    </tr>\n",
              "    <tr>\n",
              "      <th>3</th>\n",
              "      <td>01/04/1991</td>\n",
              "      <td>4.85</td>\n",
              "    </tr>\n",
              "    <tr>\n",
              "      <th>4</th>\n",
              "      <td>01/05/1991</td>\n",
              "      <td>8.15</td>\n",
              "    </tr>\n",
              "  </tbody>\n",
              "</table>\n",
              "</div>"
            ],
            "text/plain": [
              "         data  valor\n",
              "0  01/01/1991  20.27\n",
              "1  01/02/1991  19.62\n",
              "2  01/03/1991  13.45\n",
              "3  01/04/1991   4.85\n",
              "4  01/05/1991   8.15"
            ]
          },
          "metadata": {
            "tags": []
          },
          "execution_count": 8
        }
      ]
    },
    {
      "cell_type": "markdown",
      "metadata": {
        "id": "V-qoSi0a8WwF",
        "colab_type": "text"
      },
      "source": [
        "## Resolução 2:"
      ]
    },
    {
      "cell_type": "code",
      "metadata": {
        "id": "cQFHBZstkr81",
        "colab_type": "code",
        "colab": {}
      },
      "source": [
        "dicionario = {'data':[], 'valor': []}\n",
        "for l in local:\n",
        "  dicionario['data'].append(l['data'])\n",
        "  dicionario['valor'].append(l['valor'])"
      ],
      "execution_count": 9,
      "outputs": []
    },
    {
      "cell_type": "code",
      "metadata": {
        "id": "-iovmk8ql_f9",
        "colab_type": "code",
        "colab": {}
      },
      "source": [
        "df2 = pd.DataFrame(dicionario)"
      ],
      "execution_count": 10,
      "outputs": []
    },
    {
      "cell_type": "code",
      "metadata": {
        "id": "Wg-MRVdNlb2S",
        "colab_type": "code",
        "colab": {
          "base_uri": "https://localhost:8080/",
          "height": 198
        },
        "outputId": "79e7add3-3564-4262-a970-6b48e56f539f"
      },
      "source": [
        "df2.head()"
      ],
      "execution_count": 11,
      "outputs": [
        {
          "output_type": "execute_result",
          "data": {
            "text/html": [
              "<div>\n",
              "<style scoped>\n",
              "    .dataframe tbody tr th:only-of-type {\n",
              "        vertical-align: middle;\n",
              "    }\n",
              "\n",
              "    .dataframe tbody tr th {\n",
              "        vertical-align: top;\n",
              "    }\n",
              "\n",
              "    .dataframe thead th {\n",
              "        text-align: right;\n",
              "    }\n",
              "</style>\n",
              "<table border=\"1\" class=\"dataframe\">\n",
              "  <thead>\n",
              "    <tr style=\"text-align: right;\">\n",
              "      <th></th>\n",
              "      <th>data</th>\n",
              "      <th>valor</th>\n",
              "    </tr>\n",
              "  </thead>\n",
              "  <tbody>\n",
              "    <tr>\n",
              "      <th>0</th>\n",
              "      <td>01/01/1991</td>\n",
              "      <td>20.27</td>\n",
              "    </tr>\n",
              "    <tr>\n",
              "      <th>1</th>\n",
              "      <td>01/02/1991</td>\n",
              "      <td>19.62</td>\n",
              "    </tr>\n",
              "    <tr>\n",
              "      <th>2</th>\n",
              "      <td>01/03/1991</td>\n",
              "      <td>13.45</td>\n",
              "    </tr>\n",
              "    <tr>\n",
              "      <th>3</th>\n",
              "      <td>01/04/1991</td>\n",
              "      <td>4.85</td>\n",
              "    </tr>\n",
              "    <tr>\n",
              "      <th>4</th>\n",
              "      <td>01/05/1991</td>\n",
              "      <td>8.15</td>\n",
              "    </tr>\n",
              "  </tbody>\n",
              "</table>\n",
              "</div>"
            ],
            "text/plain": [
              "         data  valor\n",
              "0  01/01/1991  20.27\n",
              "1  01/02/1991  19.62\n",
              "2  01/03/1991  13.45\n",
              "3  01/04/1991   4.85\n",
              "4  01/05/1991   8.15"
            ]
          },
          "metadata": {
            "tags": []
          },
          "execution_count": 11
        }
      ]
    },
    {
      "cell_type": "markdown",
      "metadata": {
        "id": "A_WEdAZEPRV0",
        "colab_type": "text"
      },
      "source": [
        "## Resolução 3:"
      ]
    },
    {
      "cell_type": "code",
      "metadata": {
        "id": "qSGpi_B_PT52",
        "colab_type": "code",
        "colab": {}
      },
      "source": [
        "df3 = pd.DataFrame(dicionario)"
      ],
      "execution_count": 12,
      "outputs": []
    },
    {
      "cell_type": "code",
      "metadata": {
        "id": "8dHrqqnxPgnv",
        "colab_type": "code",
        "colab": {
          "base_uri": "https://localhost:8080/",
          "height": 198
        },
        "outputId": "16a0d4ad-405d-4a15-f0e7-8bca37e65f48"
      },
      "source": [
        "df3.head()"
      ],
      "execution_count": 13,
      "outputs": [
        {
          "output_type": "execute_result",
          "data": {
            "text/html": [
              "<div>\n",
              "<style scoped>\n",
              "    .dataframe tbody tr th:only-of-type {\n",
              "        vertical-align: middle;\n",
              "    }\n",
              "\n",
              "    .dataframe tbody tr th {\n",
              "        vertical-align: top;\n",
              "    }\n",
              "\n",
              "    .dataframe thead th {\n",
              "        text-align: right;\n",
              "    }\n",
              "</style>\n",
              "<table border=\"1\" class=\"dataframe\">\n",
              "  <thead>\n",
              "    <tr style=\"text-align: right;\">\n",
              "      <th></th>\n",
              "      <th>data</th>\n",
              "      <th>valor</th>\n",
              "    </tr>\n",
              "  </thead>\n",
              "  <tbody>\n",
              "    <tr>\n",
              "      <th>0</th>\n",
              "      <td>01/01/1991</td>\n",
              "      <td>20.27</td>\n",
              "    </tr>\n",
              "    <tr>\n",
              "      <th>1</th>\n",
              "      <td>01/02/1991</td>\n",
              "      <td>19.62</td>\n",
              "    </tr>\n",
              "    <tr>\n",
              "      <th>2</th>\n",
              "      <td>01/03/1991</td>\n",
              "      <td>13.45</td>\n",
              "    </tr>\n",
              "    <tr>\n",
              "      <th>3</th>\n",
              "      <td>01/04/1991</td>\n",
              "      <td>4.85</td>\n",
              "    </tr>\n",
              "    <tr>\n",
              "      <th>4</th>\n",
              "      <td>01/05/1991</td>\n",
              "      <td>8.15</td>\n",
              "    </tr>\n",
              "  </tbody>\n",
              "</table>\n",
              "</div>"
            ],
            "text/plain": [
              "         data  valor\n",
              "0  01/01/1991  20.27\n",
              "1  01/02/1991  19.62\n",
              "2  01/03/1991  13.45\n",
              "3  01/04/1991   4.85\n",
              "4  01/05/1991   8.15"
            ]
          },
          "metadata": {
            "tags": []
          },
          "execution_count": 13
        }
      ]
    }
  ]
}