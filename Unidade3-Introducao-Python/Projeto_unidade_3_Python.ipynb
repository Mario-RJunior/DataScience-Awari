{
 "cells": [
  {
   "cell_type": "markdown",
   "metadata": {},
   "source": [
    "# Awari - Data Science\n",
    "\n",
    "## Exercícios Unidade 3"
   ]
  },
  {
   "cell_type": "markdown",
   "metadata": {},
   "source": [
    "Neste Jupyter notebook você irá resolver uma série de desafios utilizando a linguagem Python.\n",
    "\n",
    "O objetivo destes exercícios é você aplicar os principais conceitos que você aprendeu na unidade 3.\n",
    "Todo o seu código deve ser executado neste Jupyter Notebook. Por fim, se desejar, revise as respostas com o seu mentor."
   ]
  },
  {
   "cell_type": "markdown",
   "metadata": {},
   "source": [
    "### Exemplo de desafio\n",
    "\n",
    "Escreva um programa em Python para encontrar os números que são divisíveis por 7 e múltiplos de 5, entre 1500 e 2700 (ambos incluídos).\n"
   ]
  },
  {
   "cell_type": "code",
   "execution_count": 1,
   "metadata": {},
   "outputs": [
    {
     "name": "stdout",
     "output_type": "stream",
     "text": [
      "1505, 1540, 1575, 1610, 1645, 1680, 1715, 1750, 1785, 1820, 1855, 1890, 1925, 1960, 1995, 2030, 2065, 2100, 2135, 2170, 2205, 2240, 2275, 2310, 2345, 2380, 2415, 2450, 2485, 2520, 2555, 2590, 2625, 2660, 2695\n"
     ]
    }
   ],
   "source": [
    "# Solução\n",
    "nl=[]\n",
    "for x in range(1500, 2701):\n",
    "    if (x%7==0) and (x%5==0):\n",
    "        nl.append(str(x))\n",
    "        \n",
    "print (', '.join(nl))"
   ]
  },
  {
   "cell_type": "markdown",
   "metadata": {},
   "source": [
    "### Desafio 1\n",
    "\n",
    "Escreva um programa em Python para contabilizar a quantidade de ocorrências de cada palavra."
   ]
  },
  {
   "cell_type": "code",
   "execution_count": 2,
   "metadata": {},
   "outputs": [
    {
     "name": "stdout",
     "output_type": "stream",
     "text": [
      "{'red': 4, 'green': 4, 'black': 5, 'pink': 6, 'white': 5, 'eyes': 1, 'orange': 4}\n"
     ]
    }
   ],
   "source": [
    "palavras = [\n",
    "   'red', 'green', 'black', 'pink', 'black', 'white', 'black', 'eyes',\n",
    "   'white', 'black', 'orange', 'pink', 'pink', 'red', 'red', 'white', 'orange',\n",
    "   'white', \"black\", 'pink', 'green', 'green', 'pink', 'green', 'pink',\n",
    "   'white', 'orange', \"orange\", 'red'\n",
    "]\n",
    "\n",
    "\n",
    "# Seu código\n",
    "dicionario = {}\n",
    "for palavra in palavras:\n",
    "    total = palavras.count(palavra)\n",
    "    dicionario[f'{palavra}'] = total\n",
    "print(dicionario)"
   ]
  },
  {
   "cell_type": "markdown",
   "metadata": {},
   "source": [
    "### Desafio 2\n",
    "\n",
    "Escreva uma função que recebe um número inteiro de horas e a converte em segundos.\n",
    "\n",
    "Exemplo:\n",
    "\n",
    "convert(5) ➞ 18000\n",
    "\n",
    "convert(3) ➞ 10800\n",
    "\n",
    "convert(2) ➞ 7200"
   ]
  },
  {
   "cell_type": "code",
   "execution_count": 3,
   "metadata": {},
   "outputs": [
    {
     "name": "stdout",
     "output_type": "stream",
     "text": [
      "18000\n",
      "10800\n",
      "7200\n"
     ]
    }
   ],
   "source": [
    "def convert_to_sec(number):\n",
    "    segundos = number * 3600\n",
    "    print(segundos)\n",
    "\n",
    "convert_to_sec(5)\n",
    "convert_to_sec(3)\n",
    "convert_to_sec(2)"
   ]
  },
  {
   "cell_type": "markdown",
   "metadata": {},
   "source": [
    "### Desafio 3\n",
    "\n",
    "Escreva uma função que receba uma lista e retorne uma nova lista ordenada e sem valores duplicados.\n"
   ]
  },
  {
   "cell_type": "code",
   "execution_count": 4,
   "metadata": {},
   "outputs": [
    {
     "name": "stdout",
     "output_type": "stream",
     "text": [
      "[1, 2, 3, 4, 5, 6, 9, 13, 15, 30, 45]\n"
     ]
    }
   ],
   "source": [
    "lista = [1,2,3,4,3,30,3,4,5,6,9,3,2,1,2,4,5,15,6,6,3,13,4,45,5]\n",
    "\n",
    "# Seu código\n",
    "def ordered_list(listas):\n",
    "    listas.sort()\n",
    "    lista2 = []\n",
    "    for num in listas:\n",
    "        if num not in lista2:\n",
    "            lista2.append(num)\n",
    "    print(lista2)\n",
    "\n",
    "ordered_list(lista)"
   ]
  },
  {
   "cell_type": "markdown",
   "metadata": {},
   "source": [
    "### Desafio 4\n",
    "\n",
    "Escreva uma função que receba uma string como parâmetro e retorne outra string com as palavras em ordem inversa.\n",
    "\n",
    "Exemplo:\n",
    "\n",
    "inverte_texto(\"Python é legal\") ➞ \"legal é Python\""
   ]
  },
  {
   "cell_type": "code",
   "execution_count": 5,
   "metadata": {},
   "outputs": [
    {
     "name": "stdout",
     "output_type": "stream",
     "text": [
      "legal é Python\n"
     ]
    }
   ],
   "source": [
    "def inverte_texto(texto):\n",
    "    lista = texto.split()\n",
    "    lista.reverse()\n",
    "    print(' '.join(lista))\n",
    "\n",
    "inverte_texto(\"Python é legal\")"
   ]
  },
  {
   "cell_type": "markdown",
   "metadata": {},
   "source": [
    "### Desafio 5\n",
    "\n",
    "Dado um arquivo .txt que possui uma lista de nomes, conte quantos nomes existem no arquivo e imprima os resultados. O arquivo TXT está localizado na mesma pasta do projeto (nameslist.txt)."
   ]
  },
  {
   "cell_type": "code",
   "execution_count": 6,
   "metadata": {},
   "outputs": [
    {
     "name": "stdout",
     "output_type": "stream",
     "text": [
      "{'Darth\\n': 30, 'Luke\\n': 15, 'Lea\\n': 54, 'Darth': 1}\n"
     ]
    }
   ],
   "source": [
    "def conta_nomes(arquivo):\n",
    "    with open(arquivo, 'r') as arq:\n",
    "        dicionario = {}\n",
    "        nomes = arq.readlines()\n",
    "        for nome in nomes:\n",
    "            total = nomes.count(nome)\n",
    "            dicionario[f'{nome}'] = total\n",
    "        print(dicionario)\n",
    "\n",
    "conta_nomes('nameslist.txt')"
   ]
  },
  {
   "cell_type": "markdown",
   "metadata": {},
   "source": [
    "### Desafio 6\n",
    "\n",
    "Crie uma função que receba duas listas e retorne uma lista que contenha apenas os elementos comuns entre as listas (sem repetição). A função deve suportar lista de tamanhos diferentes.\n",
    "\n",
    "listas:\n",
    "\n",
    "a = [1, 1, 2, 3, 5, 8, 13, 21, 34, 55, 89]\n",
    " \n",
    "b = [1, 2, 3, 4, 5, 6, 7, 8, 9, 10, 11, 12, 13]\n"
   ]
  },
  {
   "cell_type": "code",
   "execution_count": 7,
   "metadata": {},
   "outputs": [
    {
     "name": "stdout",
     "output_type": "stream",
     "text": [
      "[1, 2, 3, 5, 8, 13]\n"
     ]
    }
   ],
   "source": [
    "def lista_unica(lista1, lista2):\n",
    "    l1 = set(lista1)\n",
    "    l2 = set(lista2)\n",
    "    l3 = l1.intersection(l2)\n",
    "    print(list(l3))\n",
    "    \n",
    "a = [1, 1, 2, 3, 5, 8, 13, 21, 34, 55, 89]\n",
    "b = [1, 2, 3, 4, 5, 6, 7, 8, 9, 10, 11, 12, 13]\n",
    "lista_unica(a, b)"
   ]
  },
  {
   "cell_type": "markdown",
   "metadata": {},
   "source": [
    "### Desafio 7\n",
    "\n",
    "Escreva um programa Python para converter um número romano em um número inteiro.\n"
   ]
  },
  {
   "cell_type": "code",
   "execution_count": 8,
   "metadata": {},
   "outputs": [
    {
     "name": "stdout",
     "output_type": "stream",
     "text": [
      "4000\n",
      "3986\n",
      "100\n",
      "1\n"
     ]
    }
   ],
   "source": [
    "class Conversor:\n",
    "        \n",
    "    def __init__(self):\n",
    "        self.rom = {'I': 1, 'V': 5, 'X': 10, 'L': 50, 'C': 100, 'M': 1000}\n",
    "\n",
    "    def roman_to_int(self, roman):\n",
    "        soma = 0\n",
    "        for i in range(0, len(roman)):\n",
    "            valor = self.rom[roman[i]]\n",
    "            if i + 1 < len(roman) and self.rom[roman[i + 1]] > valor:\n",
    "                soma -= valor\n",
    "            else:\n",
    "                soma += valor\n",
    "        print(soma)\n",
    "\n",
    "    \n",
    "    \n",
    "c = Conversor()\n",
    "c.roman_to_int('MMMM')\n",
    "c.roman_to_int('MMMCMLXXXVI')\n",
    "c.roman_to_int('C')\n",
    "c.roman_to_int('I')"
   ]
  },
  {
   "cell_type": "markdown",
   "metadata": {},
   "source": [
    "### Desafio 8\n",
    "\n",
    "Escreva um script Python para encontrar as 10 palavras mais longas em um arquivo.\n",
    "\n",
    "O arquivo TXT está localizado na mesma pasta do projeto (texto.txt)."
   ]
  },
  {
   "cell_type": "code",
   "execution_count": 9,
   "metadata": {},
   "outputs": [
    {
     "name": "stdout",
     "output_type": "stream",
     "text": [
      "comprehensive 13\n",
      "intermediate 12\n",
      "interpreted 11\n",
      "programming 11\n",
      "readability 11\n",
      "programmers 11\n",
      "philosophy 10\n",
      "emphasizes 10\n",
      "imperative 10\n",
      "functional 10\n"
     ]
    }
   ],
   "source": [
    "from operator import itemgetter\n",
    "with open('texto.txt', 'r') as arq:\n",
    "    dic = {}\n",
    "    conteudo = arq.read().replace('.', ' ').replace('-', ' ').replace(',', ' ').replace(')', ' ')\n",
    "    for palavra in conteudo.split():\n",
    "        dic[f'{palavra}'] = len(palavra)\n",
    "        ordem = sorted(dic.items(), key=itemgetter(1), reverse=True)\n",
    "    for k, v in enumerate(ordem):\n",
    "        if k < 10:\n",
    "            print(v[0], v[1])"
   ]
  },
  {
   "cell_type": "markdown",
   "metadata": {},
   "source": [
    "### Desafio 9\n",
    "\n",
    "Escreva uma função que retorne a soma dos múltiplos de 3 e 5 entre 0 e um número limite (parâmetro). Por exemplo, se o limite for 20, ele retornará a soma de 3, 5, 6, 9, 10, 12, 15, 18, 20."
   ]
  },
  {
   "cell_type": "code",
   "execution_count": 10,
   "metadata": {},
   "outputs": [
    {
     "name": "stdout",
     "output_type": "stream",
     "text": [
      "98\n"
     ]
    }
   ],
   "source": [
    "def soma_multiplos(limite):\n",
    "    lista = list(num for num in range(0, limite + 1) if num % 3 == 0 or num % 5 == 0)\n",
    "    print(sum(lista))\n",
    "\n",
    "soma_multiplos(20)"
   ]
  },
  {
   "cell_type": "markdown",
   "metadata": {},
   "source": [
    "### Desafio 10\n",
    "\n",
    "Dada uma lista, divida-a em 3 partes iguais e reverta cada lista.\n",
    "\n",
    "Exemplo: \n",
    "\n",
    "sampleList = [11, 45, 8, 23, 14, 12, 78, 45, 89]\n",
    "\n",
    "Parte 1 [8, 45, 11]\n",
    "\n",
    "Parte 2 [12, 14, 23]\n",
    "\n",
    "Parte 3 [89, 45, 78]"
   ]
  },
  {
   "cell_type": "code",
   "execution_count": 11,
   "metadata": {},
   "outputs": [
    {
     "name": "stdout",
     "output_type": "stream",
     "text": [
      "Parte 1: [8, 11, 45] \n",
      "Parte 2: [12, 14, 23] \n",
      "Parte 3: [45, 78, 89]\n"
     ]
    }
   ],
   "source": [
    "sampleList = [11, 45, 8, 23, 14, 12, 78, 45, 89]\n",
    "qtde = len(sampleList) // 3\n",
    "l1 = []\n",
    "l2 = []\n",
    "l3 = []\n",
    "for c, v in enumerate(sampleList):\n",
    "    if len(l1) < qtde:\n",
    "        l1.append(v)\n",
    "    elif len(l2) < qtde:\n",
    "        l2.append(v)\n",
    "    else:\n",
    "        if len(l3) < qtde:\n",
    "            l3.append(v)\n",
    "print(f'Parte 1: {sorted(l1)} \\nParte 2: {sorted(l2)} \\nParte 3: {sorted(l3)}')"
   ]
  },
  {
   "cell_type": "markdown",
   "metadata": {},
   "source": [
    "### Desafio 11\n",
    "\n",
    "Dado um dicionário, obtenha todos os valores do dicionário e adicione-o a uma lista, mas não \n",
    "adicione valores duplicados.\n",
    "\n",
    "`\n",
    "dicionario ={'jan':47, 'feb':52, 'march':47, 'April':44, 'May':52, 'June':53, 'july':54, 'Aug':44, 'Sept':54}\n",
    "`\n",
    "\n",
    "Saída esperada: [47, 52, 44, 53, 54]\n"
   ]
  },
  {
   "cell_type": "code",
   "execution_count": 12,
   "metadata": {},
   "outputs": [
    {
     "name": "stdout",
     "output_type": "stream",
     "text": [
      "[47, 52, 44, 53, 54]\n"
     ]
    }
   ],
   "source": [
    "def teste(dicionarios):\n",
    "    lista = []\n",
    "    for key, value in dicionarios.items():\n",
    "        if value not in lista:\n",
    "            lista.append(value)\n",
    "    print(lista)\n",
    "\n",
    "dicionario ={'jan':47, 'feb':52, 'march':47, 'April':44, 'May':52, 'June':53, 'july':54, 'Aug':44, 'Sept':54}\n",
    "teste(dicionario)"
   ]
  },
  {
   "cell_type": "markdown",
   "metadata": {},
   "source": [
    "### Desafio 12\n",
    "\n",
    "Escreva uma função em Python para verificar a validade de uma senha.\n",
    "\n",
    "Validação:\n",
    "\n",
    "* Pelo menos 1 letra entre [a-z] e 1 letra entre [A-Z].\n",
    "* Pelo menos 1 número entre [0-9].\n",
    "* Pelo menos 1 caractere de [$ # @].\n",
    "* Comprimento mínimo de 6 caracteres.\n",
    "* Comprimento máximo de 16 caracteres.\n",
    "\n",
    "Entradas: \"12345678\", \"J3sus0\", \"#Te5t300\", \"J*90j12374\", \"Michheeul\", \"Monk3y6\"\n",
    "\n",
    "A saída deve ser a senha e um texto indicando se a senha é válida ou inválida:\n",
    "\n",
    "```\n",
    "\"1234\" - Senha inválida\n",
    "\"Qw#1234\" - Senha válida\n",
    "```"
   ]
  },
  {
   "cell_type": "code",
   "execution_count": 13,
   "metadata": {},
   "outputs": [
    {
     "name": "stdout",
     "output_type": "stream",
     "text": [
      "Senha inválida: 12345678\n",
      "Senha inválida: J3sus0\n",
      "Senha válida: #Te5t300\n",
      "Senha inválida: J*90j12374\n",
      "Senha inválida: Michheeul\n",
      "Senha inválida: Monk3y6\n",
      "Senha inválida: 1234\n",
      "Senha válida: Qw#1234\n"
     ]
    }
   ],
   "source": [
    "import re\n",
    "lista_senhas = ['12345678',\n",
    "          'J3sus0',\n",
    "          '#Te5t300',\n",
    "          'J*90j12374',\n",
    "          'Michheeul',\n",
    "          'Monk3y6',\n",
    "          '1234',\n",
    "          'Qw#1234']\n",
    "\n",
    "\n",
    "def valida_senhas(password):\n",
    "    regex = re.compile(r'^(?=.*[a-z])(?=.*[A-Z])(?=.*[0-9])(?=.*[$#@]).{6,16}$', flags=re.M)\n",
    "    resultado = re.findall(regex, password)\n",
    "    if resultado:\n",
    "        print(f'Senha válida: {password}')\n",
    "    else:\n",
    "        print(f'Senha inválida: {password}')\n",
    "\n",
    "\n",
    "for senha in lista_senhas:\n",
    "    valida_senhas(senha)  "
   ]
  },
  {
   "cell_type": "markdown",
   "metadata": {},
   "source": [
    "### Awari -  <a href=\"https://awari.com.br/\"> awari.com.br</a>"
   ]
  }
 ],
 "metadata": {
  "anaconda-cloud": {},
  "kernelspec": {
   "display_name": "Python 3",
   "language": "python",
   "name": "python3"
  },
  "language_info": {
   "codemirror_mode": {
    "name": "ipython",
    "version": 3
   },
   "file_extension": ".py",
   "mimetype": "text/x-python",
   "name": "python",
   "nbconvert_exporter": "python",
   "pygments_lexer": "ipython3",
   "version": "3.7.4"
  }
 },
 "nbformat": 4,
 "nbformat_minor": 1
}
