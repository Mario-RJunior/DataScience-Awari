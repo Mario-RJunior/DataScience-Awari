{
  "nbformat": 4,
  "nbformat_minor": 0,
  "metadata": {
    "kernelspec": {
      "display_name": "Python 3",
      "language": "python",
      "name": "python3"
    },
    "language_info": {
      "codemirror_mode": {
        "name": "ipython",
        "version": 3
      },
      "file_extension": ".py",
      "mimetype": "text/x-python",
      "name": "python",
      "nbconvert_exporter": "python",
      "pygments_lexer": "ipython3",
      "version": "3.7.6"
    },
    "colab": {
      "name": "Cópia de classification-project-br.ipynb",
      "provenance": [],
      "include_colab_link": true
    }
  },
  "cells": [
    {
      "cell_type": "markdown",
      "metadata": {
        "id": "view-in-github",
        "colab_type": "text"
      },
      "source": [
        "<a href=\"https://colab.research.google.com/github/Mario-RJunior/DataScience-Awari/blob/master/Unidade8-Machine-Learning/Classificacao/classification_project_br.ipynb\" target=\"_parent\"><img src=\"https://colab.research.google.com/assets/colab-badge.svg\" alt=\"Open In Colab\"/></a>"
      ]
    },
    {
      "cell_type": "markdown",
      "metadata": {
        "id": "3qip8nFDk96a"
      },
      "source": [
        "![](https://i.imgur.com/JsMvGnP.png)"
      ]
    },
    {
      "cell_type": "markdown",
      "metadata": {
        "id": "nXaaPw8Hk96c"
      },
      "source": [
        "## Projeto - Classificação\n",
        "\n",
        "## 1. Considerações iniciais\n",
        "\n",
        "Neste notebook vamos praticar a construção de um modelo de Machine Learning. Mais especificamente, iremos utilizar um algoritmo para realizar um processo de classificação. Propositalmente, evitaremos adentrar em algoritmos e explicações mais complexas, pois o foco é percorrer o fluxo do Aprendizado de Máquina por inteiro, ou o máximo dele.\n",
        "\n",
        "### 1.1. O Problema de Negócio\n",
        "\n",
        "A _churn rate_ (taxa de rotatividade ou cancelamento) é a porcentagem de assinantes de um serviço que interrompe suas assinaturas dentro de um determinado período de tempo. Para uma empresa expandir sua clientela, sua taxa de crescimento, medida pelo número de novos clientes, deve exceder sua taxa de cancelamento (_churn rate_).\n",
        "\n",
        "Portanto, neste projeto, um banco deseja que você construa um modelo de Machine Learning que possa prever a probabilidade de seus clientes atuais fecharem suas contas em um futuro próximo e, portanto, calcular sua _churn rate_.\n",
        "\n",
        "Esse é um problema de classificação no qual você classifica se um cliente irá sair (y=1) ou permanecer (y=0) com base diversos atributos.\n",
        "\n",
        "### 1.2. Descrição do dados\n",
        "\n",
        "No arquivo *Churn_Modelling.csv* você encontrará:\n",
        "- **RowNumber**: id do registro/linha.\n",
        "- **CustomerId**: identificador único do cliente.\n",
        "- **Surname**: sobrenome do cliente.\n",
        "- **CreditScore**: pontuação de crédito do cliente.\n",
        "- **Geography**: país de origem do cliente.\n",
        "- **Gender**: sexo do cliente.\n",
        "- **Age**: idade do cliente.\n",
        "- **Tenure**: número de anos em que o cliente está com o banco.\n",
        "- **Balance**: saldo bancário.\n",
        "- **NumOfProducts**: número de produtos que o cliente utiliza.\n",
        "- **HasCrCard**: indica se o cliente tem (1) ou não tem (0) cartão de crédito.\n",
        "- **IsActiveMember**: indica se o cliente é (1) ou não é (0) ativo no banco.\n",
        "- **EstimatedSalary**: salário estimado em dólares.\n",
        "- **Exited**: indica se o cliente encerrou (1) a conta no banco ou se o cliente foi retido (0).\n",
        "\n",
        "\n",
        "### 1.3 Métricas de Avaliação\n",
        "\n",
        "Avalie seu modelo utilizando as métricas Acurácia e AUC (area under the ROC) estudadas nos módulos anteriores.\n",
        "\n",
        "Trabalhe até conseguir uma acurácia acima e 85%.\n",
        "\n",
        "## 2. Etapas do Projeto\n",
        "\n",
        "Neste projeto você poderá seguir o fluxo que preferir, mas como sugestão pode seguir as seguintes etapas:\n",
        "1. Análise exploratória \n",
        "2. Preparação e limpeza dos dados\n",
        "3. Seleção de atributos\n",
        "4. Construção do modelo\n",
        "5. Avaliação do modelo\n",
        "6. Otimização do modelo\n",
        "\n",
        "Lembrando que esses passos, provavelmente, serão executados várias vezes até se obter um resultado satisfatório.\n",
        "\n",
        "Sugestões de modelos:\n",
        "* Logistic Regression Classification\n",
        "* K-Nearest Neighbour (KNN) Classification\n",
        "* Support Vector Machine (SVM) Classification\n",
        "* Naive Bayes Classification\n",
        "* Decision Tree Classification\n",
        "* Random Forest Classification\n",
        "\n",
        "Em caso de dúvidas, não esqueça de conversar com seu mentor."
      ]
    },
    {
      "cell_type": "markdown",
      "metadata": {
        "id": "iApda9uWk96e"
      },
      "source": [
        "## 3. Desenvolvimento do Projeto\n",
        "*Adicione células você precisar para cada etapa*"
      ]
    },
    {
      "cell_type": "markdown",
      "metadata": {
        "id": "qqgxFC-jk96f"
      },
      "source": [
        "### 3.1 Análise exploratória"
      ]
    },
    {
      "cell_type": "code",
      "metadata": {
        "id": "nuweJFdNk96g"
      },
      "source": [
        "# Importando as bibliotecas\n",
        "import pandas as pd\n",
        "import matplotlib.pyplot as plt\n",
        "import seaborn as sns\n",
        "import numpy as np"
      ],
      "execution_count": 1,
      "outputs": []
    },
    {
      "cell_type": "code",
      "metadata": {
        "id": "MA3YOWOpk96q"
      },
      "source": [
        "# Carregando os dados\n",
        "link = 'https://raw.githubusercontent.com/Mario-RJunior/DataScience-Awari/master/Unidade8-Machine-Learning/Classificacao/Churn_Modelling.csv'\n",
        "df = pd.read_csv(link)"
      ],
      "execution_count": 2,
      "outputs": []
    },
    {
      "cell_type": "code",
      "metadata": {
        "id": "gL392hIKMh6P",
        "outputId": "176ab572-3be7-475e-91b3-024aeac6eeac",
        "colab": {
          "base_uri": "https://localhost:8080/",
          "height": 204
        }
      },
      "source": [
        "df.head()"
      ],
      "execution_count": 3,
      "outputs": [
        {
          "output_type": "execute_result",
          "data": {
            "text/html": [
              "<div>\n",
              "<style scoped>\n",
              "    .dataframe tbody tr th:only-of-type {\n",
              "        vertical-align: middle;\n",
              "    }\n",
              "\n",
              "    .dataframe tbody tr th {\n",
              "        vertical-align: top;\n",
              "    }\n",
              "\n",
              "    .dataframe thead th {\n",
              "        text-align: right;\n",
              "    }\n",
              "</style>\n",
              "<table border=\"1\" class=\"dataframe\">\n",
              "  <thead>\n",
              "    <tr style=\"text-align: right;\">\n",
              "      <th></th>\n",
              "      <th>RowNumber</th>\n",
              "      <th>CustomerId</th>\n",
              "      <th>Surname</th>\n",
              "      <th>CreditScore</th>\n",
              "      <th>Geography</th>\n",
              "      <th>Gender</th>\n",
              "      <th>Age</th>\n",
              "      <th>Tenure</th>\n",
              "      <th>Balance</th>\n",
              "      <th>NumOfProducts</th>\n",
              "      <th>HasCrCard</th>\n",
              "      <th>IsActiveMember</th>\n",
              "      <th>EstimatedSalary</th>\n",
              "      <th>Exited</th>\n",
              "    </tr>\n",
              "  </thead>\n",
              "  <tbody>\n",
              "    <tr>\n",
              "      <th>0</th>\n",
              "      <td>1</td>\n",
              "      <td>15634602</td>\n",
              "      <td>Hargrave</td>\n",
              "      <td>619</td>\n",
              "      <td>France</td>\n",
              "      <td>Female</td>\n",
              "      <td>42</td>\n",
              "      <td>2</td>\n",
              "      <td>0.00</td>\n",
              "      <td>1</td>\n",
              "      <td>1</td>\n",
              "      <td>1</td>\n",
              "      <td>101348.88</td>\n",
              "      <td>1</td>\n",
              "    </tr>\n",
              "    <tr>\n",
              "      <th>1</th>\n",
              "      <td>2</td>\n",
              "      <td>15647311</td>\n",
              "      <td>Hill</td>\n",
              "      <td>608</td>\n",
              "      <td>Spain</td>\n",
              "      <td>Female</td>\n",
              "      <td>41</td>\n",
              "      <td>1</td>\n",
              "      <td>83807.86</td>\n",
              "      <td>1</td>\n",
              "      <td>0</td>\n",
              "      <td>1</td>\n",
              "      <td>112542.58</td>\n",
              "      <td>0</td>\n",
              "    </tr>\n",
              "    <tr>\n",
              "      <th>2</th>\n",
              "      <td>3</td>\n",
              "      <td>15619304</td>\n",
              "      <td>Onio</td>\n",
              "      <td>502</td>\n",
              "      <td>France</td>\n",
              "      <td>Female</td>\n",
              "      <td>42</td>\n",
              "      <td>8</td>\n",
              "      <td>159660.80</td>\n",
              "      <td>3</td>\n",
              "      <td>1</td>\n",
              "      <td>0</td>\n",
              "      <td>113931.57</td>\n",
              "      <td>1</td>\n",
              "    </tr>\n",
              "    <tr>\n",
              "      <th>3</th>\n",
              "      <td>4</td>\n",
              "      <td>15701354</td>\n",
              "      <td>Boni</td>\n",
              "      <td>699</td>\n",
              "      <td>France</td>\n",
              "      <td>Female</td>\n",
              "      <td>39</td>\n",
              "      <td>1</td>\n",
              "      <td>0.00</td>\n",
              "      <td>2</td>\n",
              "      <td>0</td>\n",
              "      <td>0</td>\n",
              "      <td>93826.63</td>\n",
              "      <td>0</td>\n",
              "    </tr>\n",
              "    <tr>\n",
              "      <th>4</th>\n",
              "      <td>5</td>\n",
              "      <td>15737888</td>\n",
              "      <td>Mitchell</td>\n",
              "      <td>850</td>\n",
              "      <td>Spain</td>\n",
              "      <td>Female</td>\n",
              "      <td>43</td>\n",
              "      <td>2</td>\n",
              "      <td>125510.82</td>\n",
              "      <td>1</td>\n",
              "      <td>1</td>\n",
              "      <td>1</td>\n",
              "      <td>79084.10</td>\n",
              "      <td>0</td>\n",
              "    </tr>\n",
              "  </tbody>\n",
              "</table>\n",
              "</div>"
            ],
            "text/plain": [
              "   RowNumber  CustomerId   Surname  ...  IsActiveMember EstimatedSalary Exited\n",
              "0          1    15634602  Hargrave  ...               1       101348.88      1\n",
              "1          2    15647311      Hill  ...               1       112542.58      0\n",
              "2          3    15619304      Onio  ...               0       113931.57      1\n",
              "3          4    15701354      Boni  ...               0        93826.63      0\n",
              "4          5    15737888  Mitchell  ...               1        79084.10      0\n",
              "\n",
              "[5 rows x 14 columns]"
            ]
          },
          "metadata": {
            "tags": []
          },
          "execution_count": 3
        }
      ]
    },
    {
      "cell_type": "markdown",
      "metadata": {
        "id": "qRIQEafBk96w"
      },
      "source": [
        "### 3.2 Preparação e limpeza dos dados"
      ]
    },
    {
      "cell_type": "code",
      "metadata": {
        "id": "r7UShiVTk96x"
      },
      "source": [
        "# seu código"
      ],
      "execution_count": null,
      "outputs": []
    },
    {
      "cell_type": "code",
      "metadata": {
        "id": "r9yXXDwrk962"
      },
      "source": [
        "# seu código"
      ],
      "execution_count": null,
      "outputs": []
    },
    {
      "cell_type": "markdown",
      "metadata": {
        "id": "Y1vxsrTbk96-"
      },
      "source": [
        "### 3.3 Seleção de atributos"
      ]
    },
    {
      "cell_type": "code",
      "metadata": {
        "id": "uygoNjivk97A"
      },
      "source": [
        "# seu código"
      ],
      "execution_count": null,
      "outputs": []
    },
    {
      "cell_type": "code",
      "metadata": {
        "id": "vhYiENgLk97H"
      },
      "source": [
        "# seu código"
      ],
      "execution_count": null,
      "outputs": []
    },
    {
      "cell_type": "markdown",
      "metadata": {
        "id": "nhLuJNn3k97P"
      },
      "source": [
        "### 3.4 Construção do modelo"
      ]
    },
    {
      "cell_type": "code",
      "metadata": {
        "id": "It8Yh6TKk97Q"
      },
      "source": [
        "# seu código"
      ],
      "execution_count": null,
      "outputs": []
    },
    {
      "cell_type": "code",
      "metadata": {
        "id": "qpcfFOQsk97X"
      },
      "source": [
        "# seu código"
      ],
      "execution_count": null,
      "outputs": []
    },
    {
      "cell_type": "markdown",
      "metadata": {
        "id": "yGEfhS5wk97d"
      },
      "source": [
        "### 3.5 Avaliação do modelo"
      ]
    },
    {
      "cell_type": "code",
      "metadata": {
        "id": "V0imPQlIk97e"
      },
      "source": [
        "# seu código"
      ],
      "execution_count": null,
      "outputs": []
    },
    {
      "cell_type": "code",
      "metadata": {
        "id": "48m76FD6k97k"
      },
      "source": [
        "# seu código"
      ],
      "execution_count": null,
      "outputs": []
    },
    {
      "cell_type": "markdown",
      "metadata": {
        "id": "1MT6aIa5k97x"
      },
      "source": [
        "### 3.4 Otimização do modelo"
      ]
    },
    {
      "cell_type": "code",
      "metadata": {
        "id": "KooCWizCk97y"
      },
      "source": [
        "# seu código"
      ],
      "execution_count": null,
      "outputs": []
    },
    {
      "cell_type": "code",
      "metadata": {
        "id": "E5t2vb3ok98B"
      },
      "source": [
        "# seu código"
      ],
      "execution_count": null,
      "outputs": []
    },
    {
      "cell_type": "markdown",
      "metadata": {
        "id": "YGdXPxXRk98J"
      },
      "source": [
        "## 4. Conclusão\n",
        "O fluxo de trabalho de Aprendizado de Máquina não termina após avaliação de performance do modelo escolhido. Na verdade, esta seria somente a primeira iteração de um processo que pode ter dezenas de tentativas.\n",
        "\n",
        "Encorajamos você a repetir novamente o processo descrito neste notebook. Contudo, explorando novas possibilidades para verificar a melhora/piora da performance do seu modelo. Você pode remover variáveis/atributos menos importantes, normalizar variáveis importantes, escolher outros algoritmos de aprendizagem supervisionada, etc. O Aprendizado de Máquina é uma área interessante justamente por causa disto. Você testa, você erra, você recomeça."
      ]
    }
  ]
}